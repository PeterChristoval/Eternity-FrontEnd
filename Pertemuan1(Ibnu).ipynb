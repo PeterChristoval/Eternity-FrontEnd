{
  "nbformat": 4,
  "nbformat_minor": 0,
  "metadata": {
    "colab": {
      "name": "Pertemuan1(Ibnu).ipynb",
      "provenance": [],
      "authorship_tag": "ABX9TyNchZ2xUBW0QqZXEHib19S3",
      "include_colab_link": true
    },
    "kernelspec": {
      "name": "python3",
      "display_name": "Python 3"
    },
    "language_info": {
      "name": "python"
    }
  },
  "cells": [
    {
      "cell_type": "markdown",
      "metadata": {
        "id": "view-in-github",
        "colab_type": "text"
      },
      "source": [
        "<a href=\"https://colab.research.google.com/github/PeterChristoval/Eternity-FrontEnd/blob/main/Pertemuan1(Ibnu).ipynb\" target=\"_parent\"><img src=\"https://colab.research.google.com/assets/colab-badge.svg\" alt=\"Open In Colab\"/></a>"
      ]
    },
    {
      "cell_type": "code",
      "execution_count": null,
      "metadata": {
        "colab": {
          "base_uri": "https://localhost:8080/"
        },
        "id": "1Il7F7Qt4q9P",
        "outputId": "54f88b12-56a1-42d4-fecf-eddd171f32ba"
      },
      "outputs": [
        {
          "output_type": "stream",
          "name": "stdout",
          "text": [
            "struktur data\n"
          ]
        }
      ],
      "source": [
        "print('struktur data')"
      ]
    }
  ]
}